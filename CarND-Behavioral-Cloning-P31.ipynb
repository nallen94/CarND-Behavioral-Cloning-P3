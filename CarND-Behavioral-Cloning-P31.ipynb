{
 "cells": [
  {
   "cell_type": "code",
   "execution_count": 1,
   "metadata": {},
   "outputs": [],
   "source": [
    "import csv\n",
    "import numpy as np\n",
    "import cv2\n",
    "import matplotlib.pyplot as plt\n",
    "\n",
    "def get_train_data():\n",
    "    lines=[]\n",
    "    with open('./Data/driving_log.csv') as csvfile:\n",
    "        reader=csv.reader(csvfile)\n",
    "        for line in reader:\n",
    "            lines.append(line)\n",
    "\n",
    "    lines=lines[1:]\n",
    "\n",
    "    images=[]\n",
    "    measurement=[]\n",
    "    steer=[]\n",
    "\n",
    "    for i in range(len(lines)):\n",
    "        source_path=lines[i][0]\n",
    "        filename= source_path.split('\\\\')[-1]\n",
    "        current_path='./Data/IMG/' + filename\n",
    "        image=cv2.imread(current_path)\n",
    "        images.append(image)\n",
    "        measurement=float(lines[i][3]) #Storing all the steer measurements related to center images\n",
    "        steer.append(measurement)\n",
    "\n",
    "    corr=0.23\n",
    "    left_steer=[x+corr for x in steer]\n",
    "    right_steer=[x-corr for x in steer]\n",
    "\n",
    "    steer=steer+left_steer\n",
    "    steer=steer+right_steer\n",
    "    \n",
    "    # Add left_images to data\n",
    "    for i in range(len(lines)):\n",
    "        source_path = lines[i][1]\n",
    "        filename = source_path.split('\\\\')[-1]\n",
    "        current_path = './Data/IMG/' + filename\n",
    "        image = cv2.imread(current_path)\n",
    "        images.append(image)\n",
    "\n",
    "    for i in range(len(lines)):\n",
    "        source_path = lines[i][2]\n",
    "        filename = source_path.split('\\\\')[-1]\n",
    "        current_path = './Data/IMG/' + filename\n",
    "        image = cv2.imread(current_path)\n",
    "        images.append(image)\n",
    "\n",
    "    X_train=np.array(images)\n",
    "    y_train= np.array(steer)\n",
    "    \n",
    "    return (X_train, y_train)"
   ]
  },
  {
   "cell_type": "code",
   "execution_count": 2,
   "metadata": {},
   "outputs": [
    {
     "name": "stdout",
     "output_type": "stream",
     "text": [
      "Number of Training Samples: 35577\n",
      "Number of Training Labels: 35577\n"
     ]
    }
   ],
   "source": [
    "X_train, y_train= get_train_data()\n",
    "print(\"Number of Training Samples: {}\" .format(len(X_train)))\n",
    "print(\"Number of Training Labels: {}\" .format(len(y_train)))"
   ]
  },
  {
   "cell_type": "code",
   "execution_count": 3,
   "metadata": {},
   "outputs": [
    {
     "name": "stderr",
     "output_type": "stream",
     "text": [
      "Using TensorFlow backend.\n"
     ]
    },
    {
     "name": "stdout",
     "output_type": "stream",
     "text": [
      "Train on 28461 samples, validate on 7116 samples\n",
      "Epoch 1/10\n",
      "28461/28461 [==============================] - 430s - loss: 0.0185 - val_loss: 0.0249\n",
      "Epoch 2/10\n",
      "28461/28461 [==============================] - 430s - loss: 0.0150 - val_loss: 0.0251\n",
      "Epoch 3/10\n",
      "28461/28461 [==============================] - 430s - loss: 0.0140 - val_loss: 0.0206\n",
      "Epoch 4/10\n",
      "28461/28461 [==============================] - 428s - loss: 0.0132 - val_loss: 0.0211\n",
      "Epoch 5/10\n",
      "28461/28461 [==============================] - 428s - loss: 0.0127 - val_loss: 0.0233\n",
      "Epoch 6/10\n",
      "28461/28461 [==============================] - 430s - loss: 0.0119 - val_loss: 0.0244\n",
      "Epoch 7/10\n",
      "28461/28461 [==============================] - 428s - loss: 0.0114 - val_loss: 0.0205\n",
      "Epoch 8/10\n",
      "28461/28461 [==============================] - 429s - loss: 0.0107 - val_loss: 0.0180\n",
      "Epoch 9/10\n",
      "28461/28461 [==============================] - 428s - loss: 0.0101 - val_loss: 0.0182\n",
      "Epoch 10/10\n",
      "28461/28461 [==============================] - 435s - loss: 0.0093 - val_loss: 0.0184\n"
     ]
    },
    {
     "data": {
      "image/png": "[encoded data removed]",
      "text/plain": [
       "<matplotlib.figure.Figure at 0x150199e5c18>"
      ]
     },
     "metadata": {},
     "output_type": "display_data"
    }
   ],
   "source": [
    "from keras.models import Sequential\n",
    "from keras.layers import Dense, Flatten, Activation, Convolution2D, MaxPooling2D, Lambda, ELU, Dropout, Cropping2D\n",
    "from sklearn.model_selection import train_test_split\n",
    "from sklearn.utils import shuffle\n",
    "\n",
    "# Nvidia - Neural Network -modified version (Added Dense (1200))\n",
    "model = Sequential()\n",
    "model.add(Lambda(lambda x: (x / 255.0) - 0.5, input_shape=(160,320,3)))\n",
    "model.add(Cropping2D(cropping=((50,20), (0,0))))\n",
    "model.add(Convolution2D(24,5,5, subsample=(2,2), activation='relu'))\n",
    "model.add(Convolution2D(36,5,5, subsample=(2,2), activation='relu'))\n",
    "model.add(Convolution2D(48,5,5, subsample=(2,2), activation='relu'))\n",
    "model.add(Convolution2D(64,3,3, activation='relu'))\n",
    "model.add(Convolution2D(64,3,3, activation='relu'))\n",
    "model.add(Flatten())\n",
    "model.add(Dense(1200))\n",
    "model.add(Dense(100))\n",
    "model.add(Dropout(0.5))\n",
    "model.add(Dense(50))\n",
    "model.add(Dense(10))\n",
    "model.add(Dense(1))\n",
    "\n",
    "model.compile(loss='mse', optimizer='adam')\n",
    "history_object=model.fit(X_train ,y_train , validation_split=0.2, shuffle=True, nb_epoch=10)\n",
    "model.save('model.h5')\n",
    "\n",
    "plt.plot(history_object.history['loss'])\n",
    "plt.plot(history_object.history['val_loss'])\n",
    "plt.title('model mean squared error loss')\n",
    "plt.ylabel('mean squared error loss')\n",
    "plt.xlabel('epoch')\n",
    "plt.legend(['training set', 'validation set'], loc='upper right')\n",
    "plt.show()"
   ]
  },
  {
   "cell_type": "code",
   "execution_count": null,
   "metadata": {},
   "outputs": [],
   "source": []
  }
 ],
 "metadata": {
  "kernelspec": {
   "display_name": "Python 3",
   "language": "python",
   "name": "python3"
  },
  "language_info": {
   "codemirror_mode": {
    "name": "ipython",
    "version": 3
   },
   "file_extension": ".py",
   "mimetype": "text/x-python",
   "name": "python",
   "nbconvert_exporter": "python",
   "pygments_lexer": "ipython3",
   "version": "3.5.2"
  },
  "widgets": {
   "state": {},
   "version": "1.1.2"
  }
 },
 "nbformat": 4,
 "nbformat_minor": 2
}
